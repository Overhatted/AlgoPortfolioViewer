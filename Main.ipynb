{
 "cells": [
  {
   "cell_type": "code",
   "execution_count": null,
   "id": "fa7a45b3-3b51-40d9-a67a-0a0cc7c3e613",
   "metadata": {},
   "outputs": [],
   "source": [
    "from Functions import *\n",
    "\n",
    "config = load()\n",
    "\n",
    "assets = fill_assets(config)\n",
    "\n",
    "create_wallets_table(config.get('wallets', []))\n",
    "create_assets_table(assets, config.get('display asset id', 0), config.get('display conversion factor', 1))"
   ]
  }
 ],
 "metadata": {
  "kernelspec": {
   "display_name": "Python 3 (ipykernel)",
   "language": "python",
   "name": "python3"
  },
  "language_info": {
   "codemirror_mode": {
    "name": "ipython",
    "version": 3
   },
   "file_extension": ".py",
   "mimetype": "text/x-python",
   "name": "python",
   "nbconvert_exporter": "python",
   "pygments_lexer": "ipython3",
   "version": "3.10.0"
  },
  "toc-showcode": false
 },
 "nbformat": 4,
 "nbformat_minor": 5
}
