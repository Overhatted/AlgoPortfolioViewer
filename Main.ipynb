{
 "cells": [
  {
   "cell_type": "code",
   "execution_count": null,
   "id": "fa7a45b3-3b51-40d9-a67a-0a0cc7c3e613",
   "metadata": {},
   "outputs": [],
   "source": [
    "from Functions import *\n",
    "\n",
    "config = load()\n",
    "print(config)\n",
    "\n",
    "fill_assets(config)\n",
    "\n",
    "create_wallets_table(config)\n",
    "create_assets_table(config)"
   ]
  },
  {
   "cell_type": "code",
   "execution_count": null,
   "id": "1d5160f0-396a-43f8-bb22-7ab2f559574e",
   "metadata": {},
   "outputs": [],
   "source": []
  }
 ],
 "metadata": {
  "kernelspec": {
   "display_name": "Python 3 (ipykernel)",
   "language": "python",
   "name": "python3"
  },
  "language_info": {
   "codemirror_mode": {
    "name": "ipython",
    "version": 3
   },
   "file_extension": ".py",
   "mimetype": "text/x-python",
   "name": "python",
   "nbconvert_exporter": "python",
   "pygments_lexer": "ipython3",
   "version": "3.10.0"
  },
  "toc-showcode": false
 },
 "nbformat": 4,
 "nbformat_minor": 5
}
